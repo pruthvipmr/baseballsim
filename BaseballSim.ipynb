{
 "cells": [
  {
   "attachments": {},
   "cell_type": "markdown",
   "metadata": {
    "collapsed": false
   },
   "source": [
    "# Baseball Simulator at an Inning Level Using a Poisson Distribution\n",
    "Pruthvi Rajaghatta"
   ]
  },
  {
   "attachments": {},
   "cell_type": "markdown",
   "metadata": {
    "collapsed": false
   },
   "source": [
    "## Thought Process and Decisions\n",
    "\n",
    "1. **Level of simulation**: I decided to structure the simulation at the inning level. This allows for a relatively simple implementation and still allows me to capture the essence of the game without getting lost in excessive detail. Simulating at a more granular level like at-bat or at-pitch would add complexity that at this point I personally couldn't fully understand. I wanted to stick to a level that I personally could explain and still comprehend.\n",
    "2. **Statistical distribution**: I chose the Poisson distribution for simulating the number of runs scored in an inning. I based this on the fact that the Poisson distribution is widely used to model count data and rare events in a fixed interval. A famous example of this is the number of customers expected to arrive at a store in an hour. It also requires only one parameter, the average number of runs per inning.\n",
    "3. **Simulation method**: The BaseballSimulatorPoisson class takes care of the entire simulation. The data used is a merged dataset based on games.csv and innings.csv. It allows for the simulation to be started at any particular inning (top or bottom) and returns the final score of the game. The data is split into home_inning_total_runs and away_inning_total runs. This decreases the sample size for calculating the average runs per inning, but it takes into account that a team may perform better at home versus away.\n",
    "4. **Analysis method**: The analyze_simulation_results method performs the analysis of the simulated games, calculates win percentages, average runs, and average run differences, and plots the distribution of total runs for both team. This helps in understanding the head-to-head performance for both teams.\n",
    "5. **Trade-offs**: The Poisson distribution may not be the perect fit for modeling baseball runs, as it assumes that the events (runs scored) are independent and occur at a constant rate. In reality, there are many more complexities to the sport, and the rate of runs scored can vary depending on factors like pitcher fatigue, game strategy, and many more.\n"
   ]
  },
  {
   "cell_type": "markdown",
   "metadata": {
    "collapsed": false
   },
   "source": [
    "## Import Libraries"
   ]
  },
  {
   "cell_type": "code",
   "execution_count": 11,
   "metadata": {
    "ExecuteTime": {
     "end_time": "2023-04-27T18:02:00.821473Z",
     "start_time": "2023-04-27T18:02:00.818763Z"
    },
    "collapsed": true
   },
   "outputs": [],
   "source": [
    "import pandas as pd\n",
    "import numpy as np\n",
    "import matplotlib.pyplot as plt"
   ]
  },
  {
   "cell_type": "markdown",
   "metadata": {
    "collapsed": false
   },
   "source": [
    "## Create Simulator Class"
   ]
  },
  {
   "cell_type": "code",
   "execution_count": 12,
   "metadata": {
    "ExecuteTime": {
     "end_time": "2023-04-27T18:02:08.024986Z",
     "start_time": "2023-04-27T18:02:08.021615Z"
    },
    "collapsed": false
   },
   "outputs": [],
   "source": [
    "class BaseballSimulatorPoisson:\n",
    "    def __init__(self, data):\n",
    "        self.data = data\n",
    "\n",
    "    def calculate_avg_runs_by_inning(self, home_team, away_team):\n",
    "        \"\"\"\n",
    "        Calculate the average runs scored per inning by the home and away team\n",
    "        :param home_team: Home team's abbreviation\n",
    "        :param away_team: Away team's abbreviation\n",
    "        :return: A tuple containing the home team's average runs and away team's average runs\n",
    "        \"\"\"\n",
    "        home_team_data = self.data[self.data['home_team'] == home_team]\n",
    "        away_team_data = self.data[self.data['away_team'] == away_team]\n",
    "\n",
    "        home_team_avg_runs = home_team_data['home_inning_total_runs'].mean()\n",
    "        away_team_avg_runs = away_team_data['away_inning_total_runs'].mean()\n",
    "\n",
    "        return home_team_avg_runs, away_team_avg_runs\n",
    "\n",
    "    def simulate_inning(self, avg_runs):\n",
    "        \"\"\"\n",
    "        Simulate an inning using a Poisson distribution with the given average runs\n",
    "        :param avg_runs: Average runs per inning\n",
    "        :return: Number of runs scored in the simulated inning\n",
    "        \"\"\"\n",
    "        runs = np.random.poisson(avg_runs)\n",
    "        return runs\n",
    "\n",
    "    def simulate_game(self, home_team_avg_runs, away_team_avg_runs, start_inning, current_home_runs, current_away_runs, inning_half):\n",
    "        \"\"\"\n",
    "        Simulate a baseball game from the given starting conditions using the given average runs per inning\n",
    "        :param home_team_avg_runs: Home team's average runs per inning\n",
    "        :param away_team_avg_runs: Away team's average runs per inning\n",
    "        :param start_inning: Inning number to start the simulation from (1-9)\n",
    "        :param current_home_runs: Home team's number of runs at the start of the simulation\n",
    "        :param current_away_runs: Away team's number of runs at the start of the simulation\n",
    "        :param inning_half: Inning half to start the simulation from (\"Top\" or \"Bottom\")\n",
    "        :return: A tuple containing the home and away team's final number of runs\n",
    "        \"\"\"\n",
    "        # Calculate the average runs per inning for both teams\n",
    "        home_team_avg_runs, away_team_avg_runs = self.calculate_avg_runs_by_inning(home_team, away_team)\n",
    "\n",
    "        # Set the initial number of runs for both teams\n",
    "        home_runs = current_home_runs\n",
    "        away_runs = current_away_runs\n",
    "\n",
    "        # Loop through the innings, starting from the specified start_inning\n",
    "        for inning in range(start_inning, 10):\n",
    "            # Determine which half-innings to simulate in the current inning\n",
    "            for half in [inning_half, 'Bottom'] if inning == start_inning else ['Top', 'Bottom']:\n",
    "                # Simulate the top half-inning (away team at bat)\n",
    "                if half == 'Top':\n",
    "                    runs = self.simulate_inning(away_team_avg_runs)\n",
    "                    away_runs += runs\n",
    "                # Simulate the bottom half-inning (home team at bat)\n",
    "                else:\n",
    "                    runs = self.simulate_inning(home_team_avg_runs)\n",
    "                    home_runs += runs\n",
    "\n",
    "                    if inning == 9 and half == 'Bottom' and home_runs > away_runs:\n",
    "                        break\n",
    "\n",
    "                # Reset the inning_half to 'Top'\n",
    "                if inning == start_inning:\n",
    "                    inning_half = 'Top'\n",
    "\n",
    "        return home_runs, away_runs\n",
    "\n",
    "    def analyze_simulation_results(self, home_team, away_team, n_simulations, start_inning=1, current_home_runs=0, current_away_runs=0, inning_half='Top'):\n",
    "        \"\"\"\n",
    "        Analyze the results of n_simulations baseball games between the home and away teams\n",
    "        :param home_team: Home team\n",
    "        :param away_team: Away team\n",
    "        :param n_simulations: Number of games to simulate\n",
    "        :param start_inning: Inning number to start the simulation from (1-9)\n",
    "        :param current_home_runs: Home team's number of runs at the start of the simulation\n",
    "        :param current_away_runs: Away team's number of runs at the start of the simulation\n",
    "        :param inning_half: Inning half to start the simulation from (\"Top\" or \"Bottom\")\n",
    "        :return: Prints the analysis results and plot the histogram\n",
    "        \"\"\"\n",
    "        # Initialize variables for counting wins and total runs\n",
    "        home_wins = 0\n",
    "        away_wins = 0\n",
    "        total_home_runs = 0\n",
    "        total_away_runs = 0\n",
    "        home_runs_list = []\n",
    "        away_runs_list = []\n",
    "\n",
    "        # Simulate n_simulations games\n",
    "        for _ in range(n_simulations):\n",
    "            simulated_home_runs, simulated_away_runs = self.simulate_game(home_team, away_team, start_inning, current_home_runs, current_away_runs, inning_half)\n",
    "            total_home_runs += simulated_home_runs\n",
    "            total_away_runs += simulated_away_runs\n",
    "            home_runs_list.append(simulated_home_runs)\n",
    "            away_runs_list.append(simulated_away_runs)\n",
    "\n",
    "            # Count wins for each team\n",
    "            if simulated_home_runs > simulated_away_runs:\n",
    "                home_wins += 1\n",
    "            else:\n",
    "                away_wins += 1\n",
    "\n",
    "        # Calculate simulation metrics\n",
    "        home_win_percentage = (home_wins / n_simulations) * 100\n",
    "        away_win_percentage = (away_wins / n_simulations) * 100\n",
    "        avg_home_runs = total_home_runs / n_simulations\n",
    "        avg_away_runs = total_away_runs / n_simulations\n",
    "        avg_run_difference = abs(avg_home_runs - avg_away_runs)\n",
    "\n",
    "        # Print simulation metrics: win percentage, average total runs, average run difference\n",
    "        print(f\"Results of {n_simulations} simulations between {home_team} and {away_team}:\")\n",
    "        print(f\"Home team ({home_team}) win percentage: {home_win_percentage:.2f}%\")\n",
    "        print(f\"Away team ({away_team}) win percentage: {away_win_percentage:.2f}%\")\n",
    "        print(f\"Average home runs: {avg_home_runs:.2f}\")\n",
    "        print(f\"Average away runs: {avg_away_runs:.2f}\")\n",
    "        print(f\"Average run difference: {avg_run_difference:.2f}\")\n",
    "\n",
    "        # Plot the distribution of total runs for both teams\n",
    "        plt.hist(home_runs_list, bins='auto', alpha=0.5, label=f'{home_team} Runs')\n",
    "        plt.hist(away_runs_list, bins='auto', alpha=0.5, label=f'{away_team} Runs')\n",
    "        plt.xlabel('Total Runs')\n",
    "        plt.ylabel('Frequency')\n",
    "        plt.title(f'Distribution of Total Runs in {n_simulations} Simulations')\n",
    "        plt.legend(loc='upper right')\n",
    "        plt.show()\n"
   ]
  },
  {
   "cell_type": "markdown",
   "metadata": {
    "collapsed": false
   },
   "source": [
    "## Import Data and Initialize Simulator"
   ]
  },
  {
   "cell_type": "code",
   "execution_count": 13,
   "metadata": {
    "ExecuteTime": {
     "end_time": "2023-04-27T18:02:10.240665Z",
     "start_time": "2023-04-27T18:02:10.226277Z"
    },
    "collapsed": false
   },
   "outputs": [],
   "source": [
    "merged_df = pd.read_csv('merged.csv')\n",
    "simulator = BaseballSimulatorPoisson(merged_df)"
   ]
  },
  {
   "cell_type": "markdown",
   "metadata": {
    "collapsed": false
   },
   "source": [
    "## Input"
   ]
  },
  {
   "cell_type": "code",
   "execution_count": 17,
   "metadata": {
    "ExecuteTime": {
     "end_time": "2023-04-27T18:05:58.792141Z",
     "start_time": "2023-04-27T18:05:58.786631Z"
    },
    "collapsed": false
   },
   "outputs": [],
   "source": [
    "# Change the following input variables to your liking\n",
    "home_team = 'HOU'           # team abbreviation in all caps\n",
    "away_team = 'CHW'           # team abbreviation in all caps\n",
    "start_inning = 1            # 1-9\n",
    "current_home_runs = 0       # whatever your heart desires\n",
    "current_away_runs = 0       # look up\n",
    "inning_half = 'Top'         # 'Top' or 'Bottom'"
   ]
  },
  {
   "cell_type": "markdown",
   "metadata": {
    "collapsed": false
   },
   "source": [
    "## Simulate Single Game"
   ]
  },
  {
   "cell_type": "code",
   "execution_count": 18,
   "metadata": {
    "ExecuteTime": {
     "end_time": "2023-04-27T18:06:01.983499Z",
     "start_time": "2023-04-27T18:06:01.977385Z"
    },
    "collapsed": false
   },
   "outputs": [
    {
     "name": "stdout",
     "output_type": "stream",
     "text": [
      "Simulated final score: HOU 2 - 9 CHW \n"
     ]
    }
   ],
   "source": [
    "simulated_home_runs, simulated_away_runs = simulator.simulate_game(home_team, away_team, start_inning, current_home_runs, current_away_runs, inning_half)\n",
    "print(f\"Simulated final score: {home_team} {simulated_home_runs} - {simulated_away_runs} {away_team} \")"
   ]
  },
  {
   "cell_type": "markdown",
   "metadata": {
    "collapsed": false
   },
   "source": [
    "## Analysis"
   ]
  },
  {
   "cell_type": "code",
   "execution_count": 19,
   "metadata": {
    "ExecuteTime": {
     "end_time": "2023-04-27T18:06:09.301329Z",
     "start_time": "2023-04-27T18:06:08.542458Z"
    },
    "collapsed": false
   },
   "outputs": [
    {
     "name": "stdout",
     "output_type": "stream",
     "text": [
      "Results of 1000 simulations between HOU and CHW:\n",
      "Home team (HOU) win percentage: 50.90%\n",
      "Away team (CHW) win percentage: 49.10%\n",
      "Average home runs: 4.95\n",
      "Average away runs: 4.34\n",
      "Average run difference: 0.61\n"
     ]
    },
    {
     "data": {
      "image/png": "[encoded data removed]",
      "text/plain": [
       "<Figure size 640x480 with 1 Axes>"
      ]
     },
     "metadata": {},
     "output_type": "display_data"
    }
   ],
   "source": [
    "n_simulations = 1000\n",
    "simulator.analyze_simulation_results(home_team, away_team, n_simulations)"
   ]
  },
  {
   "cell_type": "code",
   "execution_count": null,
   "metadata": {
    "collapsed": false
   },
   "outputs": [],
   "source": []
  }
 ],
 "metadata": {
  "kernelspec": {
   "display_name": "Python 3",
   "language": "python",
   "name": "python3"
  },
  "language_info": {
   "codemirror_mode": {
    "name": "ipython",
    "version": 2
   },
   "file_extension": ".py",
   "mimetype": "text/x-python",
   "name": "python",
   "nbconvert_exporter": "python",
   "pygments_lexer": "ipython2",
   "version": "2.7.6"
  }
 },
 "nbformat": 4,
 "nbformat_minor": 0
}
